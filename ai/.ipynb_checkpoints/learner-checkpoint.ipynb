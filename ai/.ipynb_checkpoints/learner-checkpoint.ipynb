{
 "cells": [
  {
   "cell_type": "code",
   "execution_count": null,
   "metadata": {},
   "outputs": [
    {
     "name": "stdout",
     "output_type": "stream",
     "text": [
      "Processing game: 10000\n",
      "Processing game: 20000\n",
      "Processing game: 30000\n",
      "Processing game: 40000\n",
      "Processing game: 50000\n",
      "Processing game: 60000\n",
      "Processing game: 70000\n"
     ]
    }
   ],
   "source": [
    "import numpy\n",
    "import process_data\n",
    "board, move_from, move_to = process_data.process_data('matrix_data.txt', 1000000)"
   ]
  },
  {
   "cell_type": "code",
   "execution_count": 2,
   "metadata": {
    "collapsed": true
   },
   "outputs": [],
   "source": [
    "board_train = board[0:800000]\n",
    "board_test  = board[800001:1000000]\n",
    "move_from_train = move_from[0:800000]\n",
    "move_from_test  = move_from[800001:1000000]\n",
    "move_to_train = move_to[0:800000]\n",
    "move_to_test  = move_to[800001:1000000]"
   ]
  },
  {
   "cell_type": "code",
   "execution_count": 3,
   "metadata": {},
   "outputs": [
    {
     "name": "stderr",
     "output_type": "stream",
     "text": [
      "Using TensorFlow backend.\n"
     ]
    }
   ],
   "source": [
    "from keras.models import Sequential\n",
    "from keras.layers import Dense, Activation, Dropout\n",
    "\n",
    "\n",
    "model = Sequential()\n",
    "model.add(Dense(72, activation='relu', input_dim=72))\n",
    "#model.add(Dropout(.5))\n",
    "model.add(Dense(72, activation='relu'))\n",
    "model.add(Dropout(.5))\n",
    "model.add(Dense(72, activation='softmax'))\n",
    "\n",
    "model.compile(optimizer='rmsprop',\n",
    "\t\tloss='categorical_crossentropy',\n",
    "\t\tmetrics=['accuracy'])"
   ]
  },
  {
   "cell_type": "code",
   "execution_count": 4,
   "metadata": {
    "scrolled": true
   },
   "outputs": [
    {
     "name": "stdout",
     "output_type": "stream",
     "text": [
      "Epoch 1/20\n",
      "800000/800000 [==============================] - 9s - loss: 3.4004 - acc: 0.1397     \n",
      "Epoch 2/20\n",
      "800000/800000 [==============================] - 9s - loss: 3.1656 - acc: 0.1792     \n",
      "Epoch 3/20\n",
      "800000/800000 [==============================] - 9s - loss: 3.1066 - acc: 0.1880     \n",
      "Epoch 4/20\n",
      "800000/800000 [==============================] - 9s - loss: 3.0640 - acc: 0.1936     \n",
      "Epoch 5/20\n",
      "800000/800000 [==============================] - 9s - loss: 3.0292 - acc: 0.1978     \n",
      "Epoch 6/20\n",
      "800000/800000 [==============================] - 9s - loss: 2.9988 - acc: 0.2004     \n",
      "Epoch 7/20\n",
      "800000/800000 [==============================] - 9s - loss: 2.9682 - acc: 0.2037     \n",
      "Epoch 8/20\n",
      "800000/800000 [==============================] - 9s - loss: 2.9441 - acc: 0.2066     \n",
      "Epoch 9/20\n",
      "800000/800000 [==============================] - 9s - loss: 2.9242 - acc: 0.2084     \n",
      "Epoch 10/20\n",
      "800000/800000 [==============================] - 9s - loss: 2.9079 - acc: 0.2098     \n",
      "Epoch 11/20\n",
      "800000/800000 [==============================] - 9s - loss: 2.8926 - acc: 0.2111     \n",
      "Epoch 12/20\n",
      "800000/800000 [==============================] - 9s - loss: 2.8814 - acc: 0.2114     \n",
      "Epoch 13/20\n",
      "800000/800000 [==============================] - 9s - loss: 2.8707 - acc: 0.2132     \n",
      "Epoch 14/20\n",
      "800000/800000 [==============================] - 9s - loss: 2.8632 - acc: 0.2141     \n",
      "Epoch 15/20\n",
      "800000/800000 [==============================] - 9s - loss: 2.8575 - acc: 0.2142     \n",
      "Epoch 16/20\n",
      "800000/800000 [==============================] - 9s - loss: 2.8526 - acc: 0.2140     \n",
      "Epoch 17/20\n",
      "800000/800000 [==============================] - 9s - loss: 2.8496 - acc: 0.2142     \n",
      "Epoch 18/20\n",
      "800000/800000 [==============================] - 9s - loss: 2.8473 - acc: 0.2149     \n",
      "Epoch 19/20\n",
      "800000/800000 [==============================] - 9s - loss: 2.8473 - acc: 0.2153     \n",
      "Epoch 20/20\n",
      "800000/800000 [==============================] - 9s - loss: 2.8471 - acc: 0.2145     \n"
     ]
    },
    {
     "data": {
      "text/plain": [
       "<keras.callbacks.History at 0x7fb1b8818710>"
      ]
     },
     "execution_count": 4,
     "metadata": {},
     "output_type": "execute_result"
    }
   ],
   "source": [
    "model.fit(board_train,move_from_train,epochs=20, batch_size=500)"
   ]
  },
  {
   "cell_type": "code",
   "execution_count": 5,
   "metadata": {
    "collapsed": true
   },
   "outputs": [],
   "source": [
    "model.save('move_to_model.h5')"
   ]
  },
  {
   "cell_type": "code",
   "execution_count": 6,
   "metadata": {},
   "outputs": [
    {
     "data": {
      "text/plain": [
       "[(51, 0.37545055),\n",
       " (62, 0.21994148),\n",
       " (52, 0.21645892),\n",
       " (50, 0.10163054),\n",
       " (57, 0.032112841),\n",
       " (54, 0.021009821),\n",
       " (61, 0.013235232),\n",
       " (53, 0.0055649942),\n",
       " (36, 0.0046095578),\n",
       " (58, 0.0043049268),\n",
       " (49, 0.00255231),\n",
       " (48, 0.0011145336),\n",
       " (59, 0.001006877),\n",
       " (55, 0.00037859284),\n",
       " (35, 0.00026876223),\n",
       " (42, 0.00021758929),\n",
       " (28, 3.9254639e-05),\n",
       " (27, 3.8782506e-05),\n",
       " (45, 1.8583649e-05),\n",
       " (60, 1.6504508e-05),\n",
       " (33, 1.2560376e-05),\n",
       " (34, 8.8032266e-06),\n",
       " (37, 4.4638882e-06),\n",
       " (56, 2.2466184e-06),\n",
       " (44, 5.4943507e-07),\n",
       " (26, 4.8007934e-07),\n",
       " (18, 7.9007016e-08),\n",
       " (43, 5.8563941e-08),\n",
       " (29, 5.654589e-08),\n",
       " (14, 4.4165926e-08),\n",
       " (32, 1.3374855e-08),\n",
       " (25, 8.6491365e-09),\n",
       " (24, 6.3635488e-09),\n",
       " (46, 5.6775677e-09),\n",
       " (21, 4.0744657e-09),\n",
       " (63, 3.3739229e-09),\n",
       " (41, 2.6351723e-09),\n",
       " (30, 2.3041971e-09),\n",
       " (12, 7.553842e-10),\n",
       " (15, 5.1687915e-10),\n",
       " (47, 5.0466686e-10),\n",
       " (40, 4.3678777e-10),\n",
       " (13, 4.2302795e-10),\n",
       " (38, 1.4651837e-10),\n",
       " (8, 7.1318874e-11),\n",
       " (39, 6.6456729e-11),\n",
       " (6, 3.1779909e-11),\n",
       " (9, 2.4925409e-11),\n",
       " (16, 1.0986908e-11),\n",
       " (70, 3.3494629e-12),\n",
       " (66, 3.192278e-12),\n",
       " (71, 3.106089e-12),\n",
       " (69, 3.0829638e-12),\n",
       " (68, 3.0198988e-12),\n",
       " (67, 3.0043639e-12),\n",
       " (64, 2.837701e-12),\n",
       " (65, 2.539888e-12),\n",
       " (10, 1.7734997e-12),\n",
       " (31, 8.5112597e-13),\n",
       " (20, 8.2041107e-13),\n",
       " (19, 6.9981813e-13),\n",
       " (4, 3.5829624e-13),\n",
       " (3, 8.0465914e-14),\n",
       " (23, 4.6132301e-14),\n",
       " (11, 3.3150623e-14),\n",
       " (2, 2.8982293e-14),\n",
       " (22, 2.7683383e-14),\n",
       " (5, 2.7012495e-15),\n",
       " (0, 7.4838638e-16),\n",
       " (17, 6.1597935e-16),\n",
       " (1, 3.4345267e-17),\n",
       " (7, 2.4843506e-17)]"
      ]
     },
     "execution_count": 6,
     "metadata": {},
     "output_type": "execute_result"
    }
   ],
   "source": [
    "test = board_train[0]\n",
    "test = test.reshape((1,72))\n",
    "\n",
    "z = model.predict(test)\n",
    "z = list(z[0])\n",
    "\n",
    "results = []\n",
    "for i in range(len(z)):\n",
    "    results.append((i,z[i]))\n",
    "    \n",
    "re = sorted(results, key = lambda x: x[1], reverse=True)\n",
    "\n",
    "re"
   ]
  },
  {
   "cell_type": "code",
   "execution_count": null,
   "metadata": {
    "collapsed": true
   },
   "outputs": [],
   "source": []
  },
  {
   "cell_type": "code",
   "execution_count": null,
   "metadata": {
    "collapsed": true,
    "scrolled": true
   },
   "outputs": [],
   "source": []
  },
  {
   "cell_type": "code",
   "execution_count": null,
   "metadata": {
    "collapsed": true
   },
   "outputs": [],
   "source": []
  },
  {
   "cell_type": "code",
   "execution_count": null,
   "metadata": {
    "collapsed": true
   },
   "outputs": [],
   "source": []
  },
  {
   "cell_type": "raw",
   "metadata": {},
   "source": []
  },
  {
   "cell_type": "code",
   "execution_count": null,
   "metadata": {
    "collapsed": true
   },
   "outputs": [],
   "source": []
  },
  {
   "cell_type": "code",
   "execution_count": null,
   "metadata": {
    "collapsed": true
   },
   "outputs": [],
   "source": []
  }
 ],
 "metadata": {
  "kernelspec": {
   "display_name": "Python 3",
   "language": "python",
   "name": "python3"
  },
  "language_info": {
   "codemirror_mode": {
    "name": "ipython",
    "version": 3
   },
   "file_extension": ".py",
   "mimetype": "text/x-python",
   "name": "python",
   "nbconvert_exporter": "python",
   "pygments_lexer": "ipython3",
   "version": "3.5.2+"
  }
 },
 "nbformat": 4,
 "nbformat_minor": 2
}
