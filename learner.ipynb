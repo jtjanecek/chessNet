{
 "cells": [
  {
   "cell_type": "code",
   "execution_count": 1,
   "metadata": {
    "scrolled": true
   },
   "outputs": [
    {
     "name": "stdout",
     "output_type": "stream",
     "text": [
      "Processing game: 10000\n",
      "Processing game: 20000\n",
      "Processing game: 30000\n",
      "Processing game: 40000\n",
      "Processing game: 50000\n",
      "Processing game: 60000\n",
      "Processing game: 70000\n",
      "Processing game: 80000\n",
      "Processing game: 90000\n",
      "Processing game: 100000\n",
      "Processing game: 110000\n",
      "Processing game: 120000\n",
      "Processing game: 130000\n",
      "Processing game: 140000\n",
      "Processing game: 150000\n",
      "Processing game: 160000\n",
      "Processing game: 170000\n",
      "Processing game: 180000\n",
      "Processing game: 190000\n",
      "Processing game: 200000\n",
      "Processing game: 210000\n",
      "Processing game: 220000\n",
      "Processing game: 230000\n",
      "Processing game: 240000\n",
      "Processing game: 250000\n",
      "Processing game: 260000\n",
      "Processing game: 270000\n",
      "Processing game: 280000\n",
      "Processing game: 290000\n",
      "Processing game: 300000\n",
      "Processing game: 310000\n",
      "Processing game: 320000\n",
      "Processing game: 330000\n",
      "Processing game: 340000\n",
      "Processing game: 350000\n",
      "Processing game: 360000\n",
      "Processing game: 370000\n",
      "Processing game: 380000\n",
      "Processing game: 390000\n",
      "Processing game: 400000\n",
      "Processing game: 410000\n",
      "Processing game: 420000\n",
      "Processing game: 430000\n",
      "Processing game: 440000\n",
      "Processing game: 450000\n",
      "Processing game: 460000\n",
      "Processing game: 470000\n",
      "Processing game: 480000\n",
      "Processing game: 490000\n",
      "Processing game: 500000\n",
      "Processing game: 510000\n",
      "Processing game: 520000\n",
      "Processing game: 530000\n",
      "Processing game: 540000\n",
      "Processing game: 550000\n",
      "Processing game: 560000\n",
      "Processing game: 570000\n",
      "Processing game: 580000\n",
      "Processing game: 590000\n",
      "Processing game: 600000\n",
      "Processing game: 610000\n",
      "Processing game: 620000\n",
      "Processing game: 630000\n",
      "Processing game: 640000\n",
      "Processing game: 650000\n",
      "Processing game: 660000\n",
      "Processing game: 670000\n",
      "Processing game: 680000\n",
      "Processing game: 690000\n",
      "Processing game: 700000\n",
      "Processing game: 710000\n",
      "Processing game: 720000\n",
      "Processing game: 730000\n",
      "Processing game: 740000\n",
      "Processing game: 750000\n",
      "Processing game: 760000\n",
      "Processing game: 770000\n",
      "Processing game: 780000\n",
      "Processing game: 790000\n",
      "Processing game: 800000\n",
      "Processing game: 810000\n",
      "Processing game: 820000\n",
      "Processing game: 830000\n",
      "Processing game: 840000\n",
      "Processing game: 850000\n",
      "Processing game: 860000\n",
      "Processing game: 870000\n",
      "Processing game: 880000\n",
      "Processing game: 890000\n",
      "Processing game: 900000\n",
      "Processing game: 910000\n",
      "Processing game: 920000\n",
      "Processing game: 930000\n",
      "Processing game: 940000\n",
      "Processing game: 950000\n",
      "Processing game: 960000\n",
      "Processing game: 970000\n",
      "Processing game: 980000\n",
      "Processing game: 990000\n",
      "Processing game: 1000000\n"
     ]
    }
   ],
   "source": [
    "import numpy\n",
    "import process_data\n",
    "board, move_from, move_to = process_data.process_data('matrix_data.txt', 1000000)"
   ]
  },
  {
   "cell_type": "code",
   "execution_count": 2,
   "metadata": {
    "collapsed": true
   },
   "outputs": [],
   "source": [
    "board_train = board[0:800000]\n",
    "board_test  = board[800001:1000000]\n",
    "move_from_train = move_from[0:800000]\n",
    "move_from_test  = move_from[800001:1000000]\n",
    "move_to_train = move_to[0:800000]\n",
    "move_to_test  = move_to[800001:1000000]"
   ]
  },
  {
   "cell_type": "code",
   "execution_count": 47,
   "metadata": {},
   "outputs": [],
   "source": [
    "from keras.models import Sequential\n",
    "from keras.layers import Dense, Activation, Dropout\n",
    "def get_new_model1():\n",
    "        model = Sequential()\n",
    "        model.add(Dense(144, activation='relu', input_dim=72))\n",
    "        model.add(Dense(72, activation='relu'))\n",
    "        model.add(Dense(72, activation='softmax'))\n",
    "\n",
    "        model.compile(optimizer='rmsprop',\n",
    "                loss='categorical_crossentropy',\n",
    "                metrics=['accuracy']) \n",
    "        return model\n",
    "    \n",
    "def get_new_model2():\n",
    "        model = Sequential()\n",
    "        model.add(Dense(144, activation='relu', input_dim=72))\n",
    "        model.add(Dense(72, activation='relu'))\n",
    "        model.add(Dropout(.5))\n",
    "        model.add(Dense(72, activation='softmax'))\n",
    "\n",
    "        model.compile(optimizer='rmsprop',\n",
    "                loss='categorical_crossentropy',\n",
    "                metrics=['accuracy']) \n",
    "        return model\n",
    "\n",
    "def get_new_model3(): \n",
    "        model = Sequential()\n",
    "        model.add(Dense(500, activation='relu', input_dim=72))\n",
    "        model.add(Dense(500, activation='relu'))\n",
    "        model.add(Dense(72, activation='softmax'))\n",
    "\n",
    "        model.compile(optimizer='rmsprop',\n",
    "                loss='categorical_crossentropy',\n",
    "                metrics=['accuracy']) \n",
    "        return model\n",
    "    \n",
    "# For testing epoch for overfitting\n",
    "def get_epoch(m_num):\n",
    "\n",
    "\n",
    "    scores = []\n",
    "    for i in [20]:\n",
    "        if m_num == 1:\n",
    "            model = get_new_model1()\n",
    "        elif m_num == 2:\n",
    "            model = get_new_model2()\n",
    "        elif m_num == 3:\n",
    "            model = get_new_model3()\n",
    "        model.fit(board_train,move_from_train,epochs=i, batch_size=500)\n",
    "        scores.append((i,model.evaluate(board_test, move_from_test, batch_size=500)))\n",
    "    return scores\n",
    "\n",
    "\n"
   ]
  },
  {
   "cell_type": "code",
   "execution_count": 48,
   "metadata": {},
   "outputs": [
    {
     "name": "stdout",
     "output_type": "stream",
     "text": [
      "Epoch 1/20\n",
      "800000/800000 [==============================] - 26s - loss: 2.4206 - acc: 0.2855    \n",
      "Epoch 2/20\n",
      "800000/800000 [==============================] - 27s - loss: 2.0698 - acc: 0.3354    \n",
      "Epoch 3/20\n",
      "800000/800000 [==============================] - 28s - loss: 1.9470 - acc: 0.3568    \n",
      "Epoch 4/20\n",
      "800000/800000 [==============================] - 30s - loss: 1.8771 - acc: 0.3694    \n",
      "Epoch 5/20\n",
      "800000/800000 [==============================] - 30s - loss: 1.8323 - acc: 0.3792    \n",
      "Epoch 6/20\n",
      "800000/800000 [==============================] - 30s - loss: 1.8007 - acc: 0.3858    \n",
      "Epoch 7/20\n",
      "800000/800000 [==============================] - 30s - loss: 1.7792 - acc: 0.3912    \n",
      "Epoch 8/20\n",
      "800000/800000 [==============================] - 29s - loss: 1.7636 - acc: 0.3960    \n",
      "Epoch 9/20\n",
      "800000/800000 [==============================] - 29s - loss: 1.7552 - acc: 0.3983    \n",
      "Epoch 10/20\n",
      "800000/800000 [==============================] - 30s - loss: 1.7494 - acc: 0.3998    \n",
      "Epoch 11/20\n",
      "800000/800000 [==============================] - 28s - loss: 1.7478 - acc: 0.3996    \n",
      "Epoch 12/20\n",
      "800000/800000 [==============================] - 31s - loss: 1.7483 - acc: 0.3998    \n",
      "Epoch 13/20\n",
      "800000/800000 [==============================] - 30s - loss: 1.7529 - acc: 0.3991    \n",
      "Epoch 14/20\n",
      "800000/800000 [==============================] - 30s - loss: 1.7577 - acc: 0.3964    \n",
      "Epoch 15/20\n",
      "800000/800000 [==============================] - 31s - loss: 1.7622 - acc: 0.3961    \n",
      "Epoch 16/20\n",
      "800000/800000 [==============================] - 29s - loss: 1.7685 - acc: 0.3940    \n",
      "Epoch 17/20\n",
      "800000/800000 [==============================] - 38s - loss: 1.7744 - acc: 0.3926    \n",
      "Epoch 18/20\n",
      "800000/800000 [==============================] - 38s - loss: 1.7797 - acc: 0.3917    \n",
      "Epoch 19/20\n",
      "800000/800000 [==============================] - 38s - loss: 1.7858 - acc: 0.3897    \n",
      "Epoch 20/20\n",
      "800000/800000 [==============================] - 38s - loss: 1.7912 - acc: 0.3877    \n",
      "199500/199998 [============================>.] - ETA: 0s[(20, [1.9426097938526363, 0.35469354730800212])]\n"
     ]
    }
   ],
   "source": [
    "score3 = get_epoch(3)\n",
    "print(score3)"
   ]
  },
  {
   "cell_type": "code",
   "execution_count": 45,
   "metadata": {
    "scrolled": true
   },
   "outputs": [
    {
     "name": "stdout",
     "output_type": "stream",
     "text": [
      "[(20, [1.9379798728721922, 0.359943599056607])]\n"
     ]
    }
   ],
   "source": []
  },
  {
   "cell_type": "code",
   "execution_count": 46,
   "metadata": {},
   "outputs": [
    {
     "name": "stdout",
     "output_type": "stream",
     "text": [
      "[(20, [1.8959824259821729, 0.34534845277061305])]\n"
     ]
    }
   ],
   "source": [
    "\n"
   ]
  },
  {
   "cell_type": "code",
   "execution_count": null,
   "metadata": {},
   "outputs": [],
   "source": [
    "\n",
    "\n",
    "\n",
    "\n",
    "#model.save('move_to_model.h5')"
   ]
  },
  {
   "cell_type": "code",
   "execution_count": 6,
   "metadata": {},
   "outputs": [
    {
     "data": {
      "text/plain": [
       "[(51, 0.37545055),\n",
       " (62, 0.21994148),\n",
       " (52, 0.21645892),\n",
       " (50, 0.10163054),\n",
       " (57, 0.032112841),\n",
       " (54, 0.021009821),\n",
       " (61, 0.013235232),\n",
       " (53, 0.0055649942),\n",
       " (36, 0.0046095578),\n",
       " (58, 0.0043049268),\n",
       " (49, 0.00255231),\n",
       " (48, 0.0011145336),\n",
       " (59, 0.001006877),\n",
       " (55, 0.00037859284),\n",
       " (35, 0.00026876223),\n",
       " (42, 0.00021758929),\n",
       " (28, 3.9254639e-05),\n",
       " (27, 3.8782506e-05),\n",
       " (45, 1.8583649e-05),\n",
       " (60, 1.6504508e-05),\n",
       " (33, 1.2560376e-05),\n",
       " (34, 8.8032266e-06),\n",
       " (37, 4.4638882e-06),\n",
       " (56, 2.2466184e-06),\n",
       " (44, 5.4943507e-07),\n",
       " (26, 4.8007934e-07),\n",
       " (18, 7.9007016e-08),\n",
       " (43, 5.8563941e-08),\n",
       " (29, 5.654589e-08),\n",
       " (14, 4.4165926e-08),\n",
       " (32, 1.3374855e-08),\n",
       " (25, 8.6491365e-09),\n",
       " (24, 6.3635488e-09),\n",
       " (46, 5.6775677e-09),\n",
       " (21, 4.0744657e-09),\n",
       " (63, 3.3739229e-09),\n",
       " (41, 2.6351723e-09),\n",
       " (30, 2.3041971e-09),\n",
       " (12, 7.553842e-10),\n",
       " (15, 5.1687915e-10),\n",
       " (47, 5.0466686e-10),\n",
       " (40, 4.3678777e-10),\n",
       " (13, 4.2302795e-10),\n",
       " (38, 1.4651837e-10),\n",
       " (8, 7.1318874e-11),\n",
       " (39, 6.6456729e-11),\n",
       " (6, 3.1779909e-11),\n",
       " (9, 2.4925409e-11),\n",
       " (16, 1.0986908e-11),\n",
       " (70, 3.3494629e-12),\n",
       " (66, 3.192278e-12),\n",
       " (71, 3.106089e-12),\n",
       " (69, 3.0829638e-12),\n",
       " (68, 3.0198988e-12),\n",
       " (67, 3.0043639e-12),\n",
       " (64, 2.837701e-12),\n",
       " (65, 2.539888e-12),\n",
       " (10, 1.7734997e-12),\n",
       " (31, 8.5112597e-13),\n",
       " (20, 8.2041107e-13),\n",
       " (19, 6.9981813e-13),\n",
       " (4, 3.5829624e-13),\n",
       " (3, 8.0465914e-14),\n",
       " (23, 4.6132301e-14),\n",
       " (11, 3.3150623e-14),\n",
       " (2, 2.8982293e-14),\n",
       " (22, 2.7683383e-14),\n",
       " (5, 2.7012495e-15),\n",
       " (0, 7.4838638e-16),\n",
       " (17, 6.1597935e-16),\n",
       " (1, 3.4345267e-17),\n",
       " (7, 2.4843506e-17)]"
      ]
     },
     "execution_count": 6,
     "metadata": {},
     "output_type": "execute_result"
    }
   ],
   "source": [
    "test = board_train[0]\n",
    "test = test.reshape((1,72))\n",
    "\n",
    "z = model.predict(test)\n",
    "z = list(z[0])\n",
    "\n",
    "results = []\n",
    "for i in range(len(z)):\n",
    "    results.append((i,z[i]))\n",
    "    \n",
    "re = sorted(results, key = lambda x: x[1], reverse=True)\n",
    "\n",
    "re"
   ]
  },
  {
   "cell_type": "code",
   "execution_count": null,
   "metadata": {
    "collapsed": true
   },
   "outputs": [],
   "source": []
  },
  {
   "cell_type": "code",
   "execution_count": null,
   "metadata": {
    "collapsed": true,
    "scrolled": true
   },
   "outputs": [],
   "source": []
  },
  {
   "cell_type": "code",
   "execution_count": null,
   "metadata": {
    "collapsed": true
   },
   "outputs": [],
   "source": []
  },
  {
   "cell_type": "code",
   "execution_count": null,
   "metadata": {
    "collapsed": true
   },
   "outputs": [],
   "source": []
  },
  {
   "cell_type": "raw",
   "metadata": {},
   "source": []
  },
  {
   "cell_type": "code",
   "execution_count": null,
   "metadata": {
    "collapsed": true
   },
   "outputs": [],
   "source": []
  },
  {
   "cell_type": "code",
   "execution_count": null,
   "metadata": {
    "collapsed": true
   },
   "outputs": [],
   "source": []
  }
 ],
 "metadata": {
  "kernelspec": {
   "display_name": "Python 3",
   "language": "python",
   "name": "python3"
  },
  "language_info": {
   "codemirror_mode": {
    "name": "ipython",
    "version": 3
   },
   "file_extension": ".py",
   "mimetype": "text/x-python",
   "name": "python",
   "nbconvert_exporter": "python",
   "pygments_lexer": "ipython3",
   "version": "3.5.2+"
  }
 },
 "nbformat": 4,
 "nbformat_minor": 2
}
