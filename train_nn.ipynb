{
 "cells": [
  {
   "cell_type": "code",
   "execution_count": 1,
   "metadata": {
    "collapsed": true,
    "scrolled": true
   },
   "outputs": [],
   "source": [
    "import numpy\n",
    "import process_data"
   ]
  },
  {
   "cell_type": "code",
   "execution_count": 2,
   "metadata": {},
   "outputs": [
    {
     "name": "stdout",
     "output_type": "stream",
     "text": [
      "Processing move: 0\n"
     ]
    }
   ],
   "source": [
    "total_to_train = 5\n",
    "filename = 'data/matrix_700k.txt'\n",
    "board, move_from, move_to = process_data.process_data(filename, 0, total_to_train) # [0,total_to_train)\n",
    "\n",
    "\n",
    "\n",
    "board2 = numpy.array([numpy.append(board[i],move_from[i]) for i in range(len(board))])\n",
    "\n",
    "# Training data is .8 of the data\n",
    "percent_train = .8\n",
    "upper = int(total_to_train*percent_train)\n",
    "\n",
    "# for training move_from NN\n",
    "board_train = board[0:upper]\n",
    "board_test  = board[(upper + 1):total_to_train]\n",
    "move_from_train = move_from[0:upper]\n",
    "move_from_test  = move_from[(upper + 1):total_to_train]\n",
    "\n",
    "# for training move_to NN\n",
    "board2_train = board2[0:upper]\n",
    "board2_test  = board2[(upper + 1):total_to_train]\n",
    "move_to_train = move_to[0:upper]\n",
    "move_to_test  = move_to[(upper + 1):total_to_train]"
   ]
  },
  {
   "cell_type": "code",
   "execution_count": 3,
   "metadata": {},
   "outputs": [
    {
     "data": {
      "text/plain": [
       "array([[-4, -2, -3, -5, -6, -3, -2, -4, -1, -1, -1, -1, -1, -1, -1, -1,  0,\n",
       "         0,  0,  0,  0,  0,  0,  0,  0,  0,  0,  0,  0,  0,  0,  0,  0,  0,\n",
       "         0,  0,  0,  0,  0,  0,  0,  0,  0,  0,  0,  0,  0,  0,  1,  1,  1,\n",
       "         1,  1,  1,  1,  1,  4,  2,  3,  5,  6,  3,  2,  4,  1,  1,  1,  1,\n",
       "         1,  1,  1,  1],\n",
       "       [-4, -2, -3, -5, -6, -3, -2, -4, -1, -1, -1, -1, -1, -1, -1, -1,  0,\n",
       "         0,  0,  0,  0,  0,  0,  0,  0,  0,  0,  0,  0,  0,  0,  0,  0,  0,\n",
       "         0,  0,  1,  0,  0,  0,  0,  0,  0,  0,  0,  0,  0,  0,  1,  1,  1,\n",
       "         1,  0,  1,  1,  1,  4,  2,  3,  5,  6,  3,  2,  4, -1, -1, -1, -1,\n",
       "        -1, -1, -1, -1],\n",
       "       [-4, -2, -3, -5, -6, -3, -2, -4, -1, -1,  0, -1, -1, -1, -1, -1,  0,\n",
       "         0, -1,  0,  0,  0,  0,  0,  0,  0,  0,  0,  0,  0,  0,  0,  0,  0,\n",
       "         0,  0,  1,  0,  0,  0,  0,  0,  0,  0,  0,  0,  0,  0,  1,  1,  1,\n",
       "         1,  0,  1,  1,  1,  4,  2,  3,  5,  6,  3,  2,  4,  1,  1,  1,  1,\n",
       "         1,  1,  1,  1],\n",
       "       [-4, -2, -3, -5, -6, -3, -2, -4, -1, -1,  0, -1, -1, -1, -1, -1,  0,\n",
       "         0, -1,  0,  0,  0,  0,  0,  0,  0,  0,  0,  0,  0,  0,  0,  0,  0,\n",
       "         0,  0,  1,  0,  0,  0,  0,  0,  0,  1,  0,  0,  0,  0,  1,  1,  1,\n",
       "         0,  0,  1,  1,  1,  4,  2,  3,  5,  6,  3,  2,  4, -1, -1, -1, -1,\n",
       "        -1, -1, -1, -1],\n",
       "       [-4, -2, -3, -5, -6, -3, -2, -4, -1, -1,  0,  0, -1, -1, -1, -1,  0,\n",
       "         0, -1,  0,  0,  0,  0,  0,  0,  0,  0, -1,  0,  0,  0,  0,  0,  0,\n",
       "         0,  0,  1,  0,  0,  0,  0,  0,  0,  1,  0,  0,  0,  0,  1,  1,  1,\n",
       "         0,  0,  1,  1,  1,  4,  2,  3,  5,  6,  3,  2,  4,  1,  1,  1,  1,\n",
       "         1,  1,  1,  1]])"
      ]
     },
     "execution_count": 3,
     "metadata": {},
     "output_type": "execute_result"
    }
   ],
   "source": [
    "board"
   ]
  },
  {
   "cell_type": "code",
   "execution_count": 3,
   "metadata": {},
   "outputs": [
    {
     "name": "stderr",
     "output_type": "stream",
     "text": [
      "Using TensorFlow backend.\n"
     ]
    }
   ],
   "source": [
    "from keras.models import Sequential\n",
    "from keras.layers import Dense, Activation, Dropout\n",
    "\n",
    "\n",
    "''' \n",
    "From model NN\n",
    "'''\n",
    "def get_base_model_from():\n",
    "        model = Sequential()\n",
    "        model.add(Dense(144, activation='relu', input_dim=72))\n",
    "        model.add(Dense(72, activation='relu'))\n",
    "        model.add(Dropout(.5))\n",
    "        model.add(Dense(72, activation='softmax'))       \n",
    "        model.compile(optimizer='rmsprop',\n",
    "            loss='categorical_crossentropy',\n",
    "            metrics=['accuracy']) \n",
    "        return model\n",
    "    \n",
    "def train_from(num_epoch):\n",
    "        model = get_base_model_from()\n",
    "        model.fit(board,move_from,epochs=num_epoch, batch_size=500)\n",
    "        return model\n",
    "    \n",
    "def test_from(num_epoch):\n",
    "    model = get_base_model_from()\n",
    "    model.fit(board_train,move_from_train,epochs=num_epoch, batch_size=500)\n",
    "    return model.evaluate(board_test, move_from_test, batch_size=500)\n",
    "\n",
    "\n",
    "'''\n",
    "To model NN\n",
    "'''\n",
    "def get_base_model_to():\n",
    "        model = Sequential()\n",
    "        model.add(Dense(288, activation='relu', input_dim=144))\n",
    "        model.add(Dense(144, activation='relu'))\n",
    "        model.add(Dropout(.5))\n",
    "        model.add(Dense(72, activation='softmax'))       \n",
    "        model.compile(optimizer='rmsprop',\n",
    "            loss='categorical_crossentropy',\n",
    "            metrics=['accuracy']) \n",
    "        return model\n",
    "    \n",
    "def train_to(num_epoch):\n",
    "        model = get_base_model_to()\n",
    "        model.fit(board2_train,move_to_train,epochs=num_epoch, batch_size=500)\n",
    "        return model\n",
    "    \n",
    "def test_to(num_epoch):\n",
    "    model = get_base_model_to()\n",
    "    model.fit(board2_train,move_to_train,epochs=num_epoch, batch_size=500)\n",
    "    return model.evaluate(board2_test, move_to_test, batch_size=500)\n"
   ]
  },
  {
   "cell_type": "code",
   "execution_count": 4,
   "metadata": {},
   "outputs": [
    {
     "name": "stdout",
     "output_type": "stream",
     "text": [
      "Epoch 1/20\n",
      "999999/999999 [==============================] - 8s - loss: 3.2864 - acc: 0.1626     \n",
      "Epoch 2/20\n",
      "999999/999999 [==============================] - 8s - loss: 3.0541 - acc: 0.1983     \n",
      "Epoch 3/20\n",
      "999999/999999 [==============================] - 8s - loss: 2.9559 - acc: 0.2119     \n",
      "Epoch 4/20\n",
      "999999/999999 [==============================] - 8s - loss: 2.8837 - acc: 0.2204     \n",
      "Epoch 5/20\n",
      "999999/999999 [==============================] - 8s - loss: 2.8310 - acc: 0.2255     \n",
      "Epoch 6/20\n",
      "999999/999999 [==============================] - 8s - loss: 2.7938 - acc: 0.2295     \n",
      "Epoch 7/20\n",
      "999999/999999 [==============================] - 8s - loss: 2.7705 - acc: 0.2312     \n",
      "Epoch 8/20\n",
      "999999/999999 [==============================] - 8s - loss: 2.7565 - acc: 0.2322     \n",
      "Epoch 9/20\n",
      "999999/999999 [==============================] - 8s - loss: 2.7462 - acc: 0.2326     \n",
      "Epoch 10/20\n",
      "999999/999999 [==============================] - 8s - loss: 2.7440 - acc: 0.2326     \n",
      "Epoch 11/20\n",
      "999999/999999 [==============================] - 9s - loss: 2.7468 - acc: 0.2310     \n",
      "Epoch 12/20\n",
      "999999/999999 [==============================] - 8s - loss: 2.7499 - acc: 0.2315     \n",
      "Epoch 13/20\n",
      "999999/999999 [==============================] - 8s - loss: 2.7565 - acc: 0.2306     \n",
      "Epoch 14/20\n",
      "999999/999999 [==============================] - 9s - loss: 2.7629 - acc: 0.2298     \n",
      "Epoch 15/20\n",
      "999999/999999 [==============================] - 8s - loss: 2.7733 - acc: 0.2290     \n",
      "Epoch 16/20\n",
      "999999/999999 [==============================] - 8s - loss: 2.7824 - acc: 0.2281     \n",
      "Epoch 17/20\n",
      "999999/999999 [==============================] - 9s - loss: 2.7926 - acc: 0.2282     \n",
      "Epoch 18/20\n",
      "999999/999999 [==============================] - 9s - loss: 2.8060 - acc: 0.2260     \n",
      "Epoch 19/20\n",
      "999999/999999 [==============================] - 9s - loss: 2.8197 - acc: 0.2246     \n",
      "Epoch 20/20\n",
      "999999/999999 [==============================] - 9s - loss: 2.8362 - acc: 0.2235     \n",
      "Epoch 1/20\n",
      "800000/800000 [==============================] - 8s - loss: 2.9588 - acc: 0.2378     \n",
      "Epoch 2/20\n",
      "800000/800000 [==============================] - 8s - loss: 2.5286 - acc: 0.3113     \n",
      "Epoch 3/20\n",
      "800000/800000 [==============================] - 8s - loss: 2.4390 - acc: 0.3304     \n",
      "Epoch 4/20\n",
      "800000/800000 [==============================] - 8s - loss: 2.3851 - acc: 0.3420     \n",
      "Epoch 5/20\n",
      "800000/800000 [==============================] - 8s - loss: 2.3476 - acc: 0.3505     \n",
      "Epoch 6/20\n",
      "800000/800000 [==============================] - 8s - loss: 2.3201 - acc: 0.3564     \n",
      "Epoch 7/20\n",
      "800000/800000 [==============================] - 8s - loss: 2.3018 - acc: 0.3617     \n",
      "Epoch 8/20\n",
      "800000/800000 [==============================] - 8s - loss: 2.2903 - acc: 0.3635     \n",
      "Epoch 9/20\n",
      "800000/800000 [==============================] - 8s - loss: 2.2845 - acc: 0.3661     \n",
      "Epoch 10/20\n",
      "800000/800000 [==============================] - 8s - loss: 2.2837 - acc: 0.3660     \n",
      "Epoch 11/20\n",
      "800000/800000 [==============================] - 8s - loss: 2.2864 - acc: 0.3658     \n",
      "Epoch 12/20\n",
      "800000/800000 [==============================] - 8s - loss: 2.2930 - acc: 0.3650     \n",
      "Epoch 13/20\n",
      "800000/800000 [==============================] - 8s - loss: 2.3021 - acc: 0.3631     \n",
      "Epoch 14/20\n",
      "800000/800000 [==============================] - 8s - loss: 2.3158 - acc: 0.3604     \n",
      "Epoch 15/20\n",
      "800000/800000 [==============================] - 8s - loss: 2.3270 - acc: 0.3571     \n",
      "Epoch 16/20\n",
      "800000/800000 [==============================] - 8s - loss: 2.3446 - acc: 0.3542     \n",
      "Epoch 17/20\n",
      "800000/800000 [==============================] - 8s - loss: 2.3586 - acc: 0.3510     \n",
      "Epoch 18/20\n",
      "800000/800000 [==============================] - 8s - loss: 2.3753 - acc: 0.3480     \n",
      "Epoch 19/20\n",
      "800000/800000 [==============================] - 8s - loss: 2.3954 - acc: 0.3433     \n",
      "Epoch 20/20\n",
      "800000/800000 [==============================] - 8s - loss: 2.4152 - acc: 0.3391     \n"
     ]
    }
   ],
   "source": [
    "model_from = train_from(20)\n",
    "model_to = train_to(20)"
   ]
  },
  {
   "cell_type": "code",
   "execution_count": 38,
   "metadata": {
    "collapsed": true,
    "scrolled": true
   },
   "outputs": [],
   "source": [
    "#model_from.save('engines/from.h5')\n",
    "#model_to.save('engines/to.h5')"
   ]
  },
  {
   "cell_type": "code",
   "execution_count": null,
   "metadata": {
    "collapsed": true
   },
   "outputs": [],
   "source": []
  },
  {
   "cell_type": "code",
   "execution_count": 18,
   "metadata": {
    "collapsed": true
   },
   "outputs": [],
   "source": [
    "\n",
    "\n",
    "#model.save('move_to_model.h5')"
   ]
  },
  {
   "cell_type": "code",
   "execution_count": 6,
   "metadata": {},
   "outputs": [
    {
     "data": {
      "text/plain": [
       "[(51, 0.37545055),\n",
       " (62, 0.21994148),\n",
       " (52, 0.21645892),\n",
       " (50, 0.10163054),\n",
       " (57, 0.032112841),\n",
       " (54, 0.021009821),\n",
       " (61, 0.013235232),\n",
       " (53, 0.0055649942),\n",
       " (36, 0.0046095578),\n",
       " (58, 0.0043049268),\n",
       " (49, 0.00255231),\n",
       " (48, 0.0011145336),\n",
       " (59, 0.001006877),\n",
       " (55, 0.00037859284),\n",
       " (35, 0.00026876223),\n",
       " (42, 0.00021758929),\n",
       " (28, 3.9254639e-05),\n",
       " (27, 3.8782506e-05),\n",
       " (45, 1.8583649e-05),\n",
       " (60, 1.6504508e-05),\n",
       " (33, 1.2560376e-05),\n",
       " (34, 8.8032266e-06),\n",
       " (37, 4.4638882e-06),\n",
       " (56, 2.2466184e-06),\n",
       " (44, 5.4943507e-07),\n",
       " (26, 4.8007934e-07),\n",
       " (18, 7.9007016e-08),\n",
       " (43, 5.8563941e-08),\n",
       " (29, 5.654589e-08),\n",
       " (14, 4.4165926e-08),\n",
       " (32, 1.3374855e-08),\n",
       " (25, 8.6491365e-09),\n",
       " (24, 6.3635488e-09),\n",
       " (46, 5.6775677e-09),\n",
       " (21, 4.0744657e-09),\n",
       " (63, 3.3739229e-09),\n",
       " (41, 2.6351723e-09),\n",
       " (30, 2.3041971e-09),\n",
       " (12, 7.553842e-10),\n",
       " (15, 5.1687915e-10),\n",
       " (47, 5.0466686e-10),\n",
       " (40, 4.3678777e-10),\n",
       " (13, 4.2302795e-10),\n",
       " (38, 1.4651837e-10),\n",
       " (8, 7.1318874e-11),\n",
       " (39, 6.6456729e-11),\n",
       " (6, 3.1779909e-11),\n",
       " (9, 2.4925409e-11),\n",
       " (16, 1.0986908e-11),\n",
       " (70, 3.3494629e-12),\n",
       " (66, 3.192278e-12),\n",
       " (71, 3.106089e-12),\n",
       " (69, 3.0829638e-12),\n",
       " (68, 3.0198988e-12),\n",
       " (67, 3.0043639e-12),\n",
       " (64, 2.837701e-12),\n",
       " (65, 2.539888e-12),\n",
       " (10, 1.7734997e-12),\n",
       " (31, 8.5112597e-13),\n",
       " (20, 8.2041107e-13),\n",
       " (19, 6.9981813e-13),\n",
       " (4, 3.5829624e-13),\n",
       " (3, 8.0465914e-14),\n",
       " (23, 4.6132301e-14),\n",
       " (11, 3.3150623e-14),\n",
       " (2, 2.8982293e-14),\n",
       " (22, 2.7683383e-14),\n",
       " (5, 2.7012495e-15),\n",
       " (0, 7.4838638e-16),\n",
       " (17, 6.1597935e-16),\n",
       " (1, 3.4345267e-17),\n",
       " (7, 2.4843506e-17)]"
      ]
     },
     "execution_count": 6,
     "metadata": {},
     "output_type": "execute_result"
    }
   ],
   "source": [
    "test = board_train[0]\n",
    "test = test.reshape((1,72))\n",
    "\n",
    "z = model.predict(test)\n",
    "z = list(z[0])\n",
    "\n",
    "results = []\n",
    "for i in range(len(z)):\n",
    "    results.append((i,z[i]))\n",
    "    \n",
    "re = sorted(results, key = lambda x: x[1], reverse=True)\n",
    "\n",
    "re"
   ]
  },
  {
   "cell_type": "code",
   "execution_count": null,
   "metadata": {
    "collapsed": true
   },
   "outputs": [],
   "source": []
  },
  {
   "cell_type": "code",
   "execution_count": null,
   "metadata": {
    "collapsed": true,
    "scrolled": true
   },
   "outputs": [],
   "source": []
  },
  {
   "cell_type": "code",
   "execution_count": null,
   "metadata": {
    "collapsed": true
   },
   "outputs": [],
   "source": []
  },
  {
   "cell_type": "code",
   "execution_count": null,
   "metadata": {
    "collapsed": true
   },
   "outputs": [],
   "source": []
  },
  {
   "cell_type": "raw",
   "metadata": {},
   "source": []
  },
  {
   "cell_type": "code",
   "execution_count": null,
   "metadata": {
    "collapsed": true
   },
   "outputs": [],
   "source": []
  },
  {
   "cell_type": "code",
   "execution_count": null,
   "metadata": {
    "collapsed": true
   },
   "outputs": [],
   "source": []
  }
 ],
 "metadata": {
  "kernelspec": {
   "display_name": "Python 3",
   "language": "python",
   "name": "python3"
  },
  "language_info": {
   "codemirror_mode": {
    "name": "ipython",
    "version": 3
   },
   "file_extension": ".py",
   "mimetype": "text/x-python",
   "name": "python",
   "nbconvert_exporter": "python",
   "pygments_lexer": "ipython3",
   "version": "3.5.2+"
  }
 },
 "nbformat": 4,
 "nbformat_minor": 2
}
